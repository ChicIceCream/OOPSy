{
 "cells": [
  {
   "cell_type": "code",
   "execution_count": 2,
   "metadata": {},
   "outputs": [
    {
     "name": "stdout",
     "output_type": "stream",
     "text": [
      "Class : <__main__.Dog object at 0x0000024EF017A7E0>, Name : Buddy, Age : 4\n"
     ]
    }
   ],
   "source": [
    "### Instance Variable and Methods\n",
    "class Dog:\n",
    "    # Constructor\n",
    "    def __init__(self, name, age): \n",
    "        self.name = name\n",
    "        self.age = age\n",
    "\n",
    "## Create some objects\n",
    "Dog1 = Dog(\"Buddy\", 4)\n",
    "print(f\"Class : {Dog1}, Name : {Dog1.name}, Age : {Dog1.age}\")\n"
   ]
  },
  {
   "cell_type": "code",
   "execution_count": 5,
   "metadata": {},
   "outputs": [
    {
     "name": "stdout",
     "output_type": "stream",
     "text": [
      "Buddy says woof!!\n"
     ]
    }
   ],
   "source": [
    "## Define a class with instance methods\n",
    "\n",
    "class Dog:\n",
    "    \n",
    "    def __init__(self, name, age):\n",
    "        self.name = name\n",
    "        self.age = age\n",
    "        \n",
    "    def bark(self):\n",
    "        print(f\"{self.name} says woof!!\")\n",
    "\n",
    "Buddy = Dog(\"Buddy\", 3)\n",
    "Buddy.bark()"
   ]
  },
  {
   "cell_type": "code",
   "execution_count": 6,
   "metadata": {},
   "outputs": [
    {
     "name": "stdout",
     "output_type": "stream",
     "text": [
      "Lucy says woof!!\n"
     ]
    }
   ],
   "source": [
    "Lucy = Dog(\"Lucy\", 4)\n",
    "Lucy.bark()"
   ]
  },
  {
   "cell_type": "code",
   "execution_count": 28,
   "metadata": {},
   "outputs": [],
   "source": [
    "### Modelling a Bank account\n",
    "\n",
    "# Define a class for the bank account\n",
    "class BankAccount:\n",
    "    def __init__(self, AccNo, Balance=0):\n",
    "        self.AccNo = AccNo\n",
    "        self.Balance = Balance\n",
    "\n",
    "    def Deposit(self, Amount):\n",
    "        print(f\"Previous Balance : ${self.Balance}\")\n",
    "        self.Balance += Amount\n",
    "        print(f\"Total Balance in your bank account is : ${self.Balance}\")\n",
    "    \n",
    "    def Withdraw(self, Amount):\n",
    "        if Amount > self.Balance:\n",
    "            print(f\"Insufficient Balance. Current Balance : ${self.Balance}\")\n",
    "        else:\n",
    "            print(f\"Previous Balance in your account : ${self.Balance}\")\n",
    "            self.Balance -= Amount\n",
    "            print(f\"Totol Balance remaning : ${self.Balance}\")\n",
    "    \n",
    "    def CheckBalance(self):\n",
    "        print(f\"Your Bank Balance is : ${self.Balance}\")\n"
   ]
  },
  {
   "cell_type": "code",
   "execution_count": null,
   "metadata": {},
   "outputs": [
    {
     "name": "stdout",
     "output_type": "stream",
     "text": [
      "Your Bank Balance is : $0\n",
      "Previous Balance : $0\n",
      "Total Balance in your bank account is : $300\n",
      "Previous Balance in your account : $300\n",
      "Totol Balance remaning : $100\n"
     ]
    }
   ],
   "source": [
    "## Call the instances\n",
    "HDFC = BankAccount(12345)\n",
    "HDFC.CheckBalance()\n",
    "HDFC.Deposit(300)\n",
    "HDFC.Withdraw(200)"
   ]
  },
  {
   "cell_type": "code",
   "execution_count": null,
   "metadata": {},
   "outputs": [],
   "source": []
  },
  {
   "cell_type": "code",
   "execution_count": null,
   "metadata": {},
   "outputs": [],
   "source": []
  }
 ],
 "metadata": {
  "kernelspec": {
   "display_name": "Python 3",
   "language": "python",
   "name": "python3"
  },
  "language_info": {
   "codemirror_mode": {
    "name": "ipython",
    "version": 3
   },
   "file_extension": ".py",
   "mimetype": "text/x-python",
   "name": "python",
   "nbconvert_exporter": "python",
   "pygments_lexer": "ipython3",
   "version": "3.12.0"
  }
 },
 "nbformat": 4,
 "nbformat_minor": 2
}
