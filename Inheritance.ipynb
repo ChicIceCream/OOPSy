{
 "cells": [
  {
   "cell_type": "markdown",
   "metadata": {},
   "source": [
    "## Lets Learn Inheritance!! "
   ]
  },
  {
   "cell_type": "code",
   "execution_count": 1,
   "metadata": {},
   "outputs": [],
   "source": [
    "## Parent class\n",
    "\n",
    "class Car:\n",
    "    ## COnstructor\n",
    "    def __init__(self, Windows, Doors, FuelType):\n",
    "        self.Windows = Windows\n",
    "        self.FuelType = FuelType\n",
    "        self.Doors = Doors\n",
    "    \n",
    "    ## Method\n",
    "    def Drive(self):\n",
    "        print(f\"The person is driving the {self.FuelType} car\")\n"
   ]
  },
  {
   "cell_type": "code",
   "execution_count": null,
   "metadata": {},
   "outputs": [
    {
     "name": "stdout",
     "output_type": "stream",
     "text": [
      "The person is driving the Petrol car\n"
     ]
    }
   ],
   "source": [
    "## Object created\n",
    "Abhi = Car(4, 4, \"Petrol\")\n",
    "Abhi.Drive()"
   ]
  },
  {
   "cell_type": "code",
   "execution_count": null,
   "metadata": {},
   "outputs": [],
   "source": [
    "class Tesla(Car):\n",
    "    def __init__(self, Windows, Doors, FuelType, is_SelfDriving=True):\n",
    "        super().__init__(Windows, Doors, FuelType)\n",
    "        self.is_SelfDriving = is_SelfDriving\n",
    "        \n",
    "    def SelfDriving(self):\n",
    "        print(f\"Tesla supports Self Driving : {self.is_SelfDriving}\")\n",
    "        "
   ]
  },
  {
   "cell_type": "code",
   "execution_count": 7,
   "metadata": {},
   "outputs": [
    {
     "name": "stdout",
     "output_type": "stream",
     "text": [
      "Tesla supports True\n",
      "The person is driving the electric car\n"
     ]
    }
   ],
   "source": [
    "Abhi2 = Tesla(4, 4, \"electric\")\n",
    "Abhi2.SelfDriving()\n",
    "Abhi2.Drive()"
   ]
  },
  {
   "cell_type": "code",
   "execution_count": null,
   "metadata": {},
   "outputs": [],
   "source": [
    "## Multiple inheritance\n",
    "# When a class inherits from more than one class\n",
    "\n",
    "# Base class 1\n",
    "class Animal:\n",
    "    def __init__(self, name):\n",
    "        self.name = name\n",
    "        \n",
    "    def speak(self):\n",
    "        print(\"Subclass must implement this method\")\n",
    "\n",
    "# Base class 2\n",
    "class Pet:\n",
    "    def __init__(self, owner):\n",
    "        self.owner = owner\n",
    "\n",
    "\n",
    "## Derived class\n",
    "class Dog(Animal, Pet):\n",
    "    def __init__(self, name, owner):\n",
    "        Animal.__init__(self, name)\n",
    "        Pet.__init__(self, owner)\n",
    "    \n",
    "    def speak(self):\n",
    "        return f\"{self.name} says WOOF WOOF!\""
   ]
  },
  {
   "cell_type": "code",
   "execution_count": 14,
   "metadata": {},
   "outputs": [
    {
     "data": {
      "text/plain": [
       "'Buddy says WOOF!'"
      ]
     },
     "execution_count": 14,
     "metadata": {},
     "output_type": "execute_result"
    }
   ],
   "source": [
    "Buddy = Dog(\"Buddy\", \"Abhi\")\n",
    "Buddy.speak()"
   ]
  }
 ],
 "metadata": {
  "kernelspec": {
   "display_name": "Python 3",
   "language": "python",
   "name": "python3"
  },
  "language_info": {
   "codemirror_mode": {
    "name": "ipython",
    "version": 3
   },
   "file_extension": ".py",
   "mimetype": "text/x-python",
   "name": "python",
   "nbconvert_exporter": "python",
   "pygments_lexer": "ipython3",
   "version": "3.12.0"
  }
 },
 "nbformat": 4,
 "nbformat_minor": 2
}
