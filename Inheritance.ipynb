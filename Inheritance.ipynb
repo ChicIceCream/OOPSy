{
 "cells": [
  {
   "cell_type": "markdown",
   "metadata": {},
   "source": [
    "## Lets Learn Inheritance!! "
   ]
  },
  {
   "cell_type": "code",
   "execution_count": null,
   "metadata": {},
   "outputs": [],
   "source": [
    "## Parent class\n",
    "\n",
    "class Car:\n",
    "    def __init__(self, Windows, Doors, FuelType):\n",
    "        self.Windows = Windows\n",
    "        self.FuelType = FuelType\n",
    "        self.Doors = Doors\n",
    "        \n",
    "    def Drive(self):\n",
    "        print(f\"The person is driving the {self.FuelType} car\")\n"
   ]
  },
  {
   "cell_type": "code",
   "execution_count": 2,
   "metadata": {},
   "outputs": [
    {
     "name": "stdout",
     "output_type": "stream",
     "text": [
      "The person is driving the Petrol car\n"
     ]
    }
   ],
   "source": [
    "Abhi = Car(4, 4, \"Petrol\")\n",
    "Abhi.Drive()"
   ]
  },
  {
   "cell_type": "code",
   "execution_count": null,
   "metadata": {},
   "outputs": [],
   "source": [
    "class Tesla(Car):\n",
    "    def __init__(self, Windows, Doors, FuelType, is_SelfDriving=True):\n",
    "        super().__init__(Windows, Doors, FuelType)\n",
    "        self.is_SelfDriving = is_SelfDriving\n",
    "        \n",
    "    def SelfDriving(self):\n",
    "        print(f\"Tesla supports Self Driving : {self.is_SelfDriving}\")\n",
    "        "
   ]
  },
  {
   "cell_type": "code",
   "execution_count": null,
   "metadata": {},
   "outputs": [
    {
     "name": "stdout",
     "output_type": "stream",
     "text": [
      "Tesla supports True\n",
      "The person is driving the Battery car\n"
     ]
    }
   ],
   "source": [
    "Abhi2 = Tesla(4, 4, \"electric\")\n",
    "Abhi2.SelfDriving()\n",
    "Abhi2.Drive()"
   ]
  },
  {
   "cell_type": "code",
   "execution_count": null,
   "metadata": {},
   "outputs": [],
   "source": []
  }
 ],
 "metadata": {
  "kernelspec": {
   "display_name": "Python 3",
   "language": "python",
   "name": "python3"
  },
  "language_info": {
   "codemirror_mode": {
    "name": "ipython",
    "version": 3
   },
   "file_extension": ".py",
   "mimetype": "text/x-python",
   "name": "python",
   "nbconvert_exporter": "python",
   "pygments_lexer": "ipython3",
   "version": "3.12.0"
  }
 },
 "nbformat": 4,
 "nbformat_minor": 2
}
